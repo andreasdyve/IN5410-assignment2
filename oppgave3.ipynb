{
 "cells": [
  {
   "cell_type": "code",
   "execution_count": null,
   "metadata": {
    "scrolled": true
   },
   "outputs": [],
   "source": [
    "import pandas as pd\n",
    "import numpy as np\n",
    "import matplotlib.pyplot as plt\n",
    "from sklearn.linear_model import LinearRegression\n",
    "from sklearn import datasets, linear_model\n",
    "from keras.models import Sequential\n",
    "from keras.layers import Dense\n",
    "from keras.layers import LSTM\n",
    "from keras.layers import Dropout"
   ]
  },
  {
   "cell_type": "code",
   "execution_count": null,
   "metadata": {
    "scrolled": true
   },
   "outputs": [],
   "source": [
    "TD = pd.read_csv('TrainData.csv')\n",
    "TD = TD[['TIMESTAMP', 'POWER']]\n",
    "\n",
    "\n",
    "WFI = pd.read_csv('WeatherForecastInput.csv')\n",
    "SOL = pd.read_csv('Solution.csv')\n",
    "\n",
    "display(SOL)"
   ]
  },
  {
   "cell_type": "markdown",
   "metadata": {},
   "source": [
    "# kNN Method"
   ]
  },
  {
   "cell_type": "code",
   "execution_count": null,
   "metadata": {
    "scrolled": true
   },
   "outputs": [],
   "source": [
    "from sklearn.linear_model import LinearRegression\n",
    "from sklearn.neighbors import KNeighborsRegressor\n",
    "from sklearn import metrics, svm\n",
    "from sklearn.neural_network import MLPRegressor\n",
    "from sklearn.metrics import mean_squared_error\n",
    "import math\n",
    "\n",
    "X_train = TD.iloc[:,1].values\n",
    "X_train = X_train[0:16078]\n",
    "X_train = X_train.reshape(-1,1)\n",
    "\n",
    "y_train = TD.iloc[:,1].values\n",
    "y_train = y_train[1:16079]\n",
    "y_train = y_train.reshape(-1,1)\n",
    "\n",
    "X_test = SOL.iloc[:,1].values\n",
    "#X_test = X_test[0:718]\n",
    "X_test = X_test.reshape(-1,1)\n",
    "y_test = SOL.iloc[:,1].values\n",
    "y_test = y_test[1:719]\n",
    "\n"
   ]
  },
  {
   "cell_type": "code",
   "execution_count": null,
   "metadata": {
    "scrolled": false
   },
   "outputs": [],
   "source": [
    "# LR Method\n",
    "lr = LinearRegression()\n",
    "lr.fit(X_train, y_train)\n",
    "y_pred_lr = lr.predict(X_test)\n",
    "\n",
    "mse = mean_squared_error(X_test, y_pred_lr)\n",
    "#print(\"Mean Squared Error:\",mse)\n",
    "rmse = math.sqrt(mse)\n",
    "print(\"Root Mean Squared Error LR:\", rmse)\n",
    "\n",
    "# KNN Method\n",
    "knn = KNeighborsRegressor(n_neighbors=6)\n",
    "knn.fit(X_train, y_train)\n",
    "y_pred_knn = knn.predict(X_test)\n",
    "\n",
    "mse = mean_squared_error(X_test, y_pred_knn)\n",
    "#print(\"Mean Squared Error:\",mse)\n",
    "rmse = math.sqrt(mse)\n",
    "print(\"Root Mean Squared Error kNN:\", rmse)\n",
    "\n",
    "\n",
    "# SVR Method\n",
    "svr = svm.SVR()\n",
    "svr.fit(X_train, y_train)\n",
    "y_pred_svr = svr.predict(X_test)\n",
    "\n",
    "mse = mean_squared_error(X_test, y_pred_svr)\n",
    "#print(\"Mean Squared Error:\",mse)\n",
    "rmse = math.sqrt(mse)\n",
    "print(\"Root Mean Squared Error SVR:\", rmse)\n",
    "\n",
    "\n",
    "# ANN MEthod\n",
    "mlp = MLPRegressor(max_iter = 1000, activation = 'relu')\n",
    "mlp.fit(X_train, y_train)\n",
    "y_pred_ann = mlp.predict(X_test)\n",
    "\n",
    "mse = mean_squared_error(X_test, y_pred_ann)\n",
    "#print(\"Mean Squared Error:\",mse)\n",
    "rmse = math.sqrt(mse)\n",
    "print(\"Root Mean Squared Error ANN:\", rmse)"
   ]
  },
  {
   "cell_type": "markdown",
   "metadata": {},
   "source": [
    "# RNN method"
   ]
  },
  {
   "cell_type": "code",
   "execution_count": null,
   "metadata": {
    "scrolled": true
   },
   "outputs": [],
   "source": [
    "# Reshape into correct shape for model input\n",
    "X_train = np.reshape(X_train, (X_train.shape[0], 1, X_train.shape[1]))\n",
    "X_test = np.reshape(X_test, (X_test.shape[0], 1, X_test.shape[1]))\n",
    "\n",
    "# Build model and train it with training data\n",
    "rnn_model = Sequential()\n",
    "rnn_model.add(LSTM(20, input_shape=(X_train.shape[1:])))\n",
    "rnn_model.add(Dense(1))\n",
    "rnn_model.compile(loss='mean_squared_error', optimizer='adam')\n",
    "rnn_model.fit(X_train, y_train, epochs=5, batch_size=1, verbose=1)\n",
    "\n",
    "# Predict power generation from test data\n",
    "y_pred_rnn = rnn_model.predict(X_test)"
   ]
  },
  {
   "cell_type": "markdown",
   "metadata": {},
   "source": [
    "# PLOTTING"
   ]
  },
  {
   "cell_type": "code",
   "execution_count": null,
   "metadata": {
    "scrolled": true
   },
   "outputs": [],
   "source": [
    "SOL['Index'] = SOL.index\n",
    "x = SOL['Index']\n",
    "y = SOL['POWER']"
   ]
  },
  {
   "cell_type": "markdown",
   "metadata": {},
   "source": [
    "## LR plot"
   ]
  },
  {
   "cell_type": "code",
   "execution_count": null,
   "metadata": {},
   "outputs": [],
   "source": [
    "plt.plot(x,y_pred_lr, label = 'Predicted power (LR)', color = 'b')\n",
    "plt.plot(x,y, label = 'actual Power', color = 'y')\n",
    "\n",
    "plt.xlabel('Time [Hours]')\n",
    "plt.ylabel('Power')\n",
    "plt.rcParams['figure.figsize'] = [16, 12]\n",
    "plt.title('LR Predicted Power Time Series')\n",
    "plt.legend()\n",
    "plt.show()"
   ]
  },
  {
   "cell_type": "markdown",
   "metadata": {},
   "source": [
    "## KNN plot"
   ]
  },
  {
   "cell_type": "code",
   "execution_count": null,
   "metadata": {
    "scrolled": true
   },
   "outputs": [],
   "source": [
    "plt.plot(x,y_pred_knn, label = 'Predicted power (kNN)', color = 'b')\n",
    "plt.plot(x,y, label = 'actual Power', color = 'y')\n",
    "\n",
    "plt.xlabel('Time [Hours]')\n",
    "plt.ylabel('Power')\n",
    "plt.rcParams['figure.figsize'] = [16, 12]\n",
    "plt.title('kNN Predicted Power Time Series')\n",
    "plt.legend()\n",
    "plt.show()"
   ]
  },
  {
   "cell_type": "markdown",
   "metadata": {},
   "source": [
    "# SVR vs LR plots"
   ]
  },
  {
   "cell_type": "code",
   "execution_count": null,
   "metadata": {
    "scrolled": true
   },
   "outputs": [],
   "source": [
    "plt.plot(x,y_pred_svr, label = 'Predicted power (SVR)', color = 'b')\n",
    "plt.plot(x,y_pred_lr, label = 'Predicted power (LR)', color = 'r')\n",
    "plt.plot(x,y, label = 'actual Power', color = 'y')\n",
    "\n",
    "plt.xlabel('Time [Hours]')\n",
    "plt.ylabel('Power')\n",
    "plt.rcParams['figure.figsize'] = [16, 12]\n",
    "plt.title('SVR vs LR Predicted Power Time Series')\n",
    "plt.savefig('timeseries_SVR_LR')\n",
    "plt.legend()\n",
    "plt.show()"
   ]
  },
  {
   "cell_type": "markdown",
   "metadata": {},
   "source": [
    "## ANN plot"
   ]
  },
  {
   "cell_type": "code",
   "execution_count": null,
   "metadata": {
    "scrolled": true
   },
   "outputs": [],
   "source": [
    "plt.plot(x,y_pred_ann, label = 'Predicted power (ANN)', color = 'r')\n",
    "plt.plot(x,y, label = 'actual Power', color = 'y')\n",
    "\n",
    "plt.xlabel('Time [Hours]')\n",
    "plt.ylabel('Power')\n",
    "plt.rcParams['figure.figsize'] = [16, 12]\n",
    "plt.title('ANN Predicted Power Time Series')\n",
    "plt.legend()\n",
    "plt.show()"
   ]
  },
  {
   "cell_type": "markdown",
   "metadata": {},
   "source": [
    "# RNN vs ANN plot"
   ]
  },
  {
   "cell_type": "code",
   "execution_count": null,
   "metadata": {
    "scrolled": true
   },
   "outputs": [],
   "source": [
    "plt.plot(x,y_pred_rnn, label = 'Predicted power (RNN)', color = 'b')\n",
    "plt.plot(x,y_pred_ann, label = 'Predicted power (ANN)', color = 'r')\n",
    "plt.plot(x,y, label = 'actual Power', color = 'y')\n",
    "\n",
    "plt.xlabel('Time [Hours]')\n",
    "plt.ylabel('Power')\n",
    "plt.rcParams['figure.figsize'] = [16, 12]\n",
    "plt.title('RNN vs ANN Predicted Power Time Series')\n",
    "plt.legend()\n",
    "plt.savefig('timeseries_RNN_ANN')\n",
    "plt.show()"
   ]
  }
 ],
 "metadata": {
  "kernelspec": {
   "display_name": "Python 3",
   "language": "python",
   "name": "python3"
  },
  "language_info": {
   "codemirror_mode": {
    "name": "ipython",
    "version": 3
   },
   "file_extension": ".py",
   "mimetype": "text/x-python",
   "name": "python",
   "nbconvert_exporter": "python",
   "pygments_lexer": "ipython3",
   "version": "3.8.5"
  }
 },
 "nbformat": 4,
 "nbformat_minor": 4
}
